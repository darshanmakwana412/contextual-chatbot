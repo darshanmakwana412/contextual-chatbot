{
 "cells": [
  {
   "cell_type": "code",
   "execution_count": null,
   "metadata": {},
   "outputs": [],
   "source": [
    "import pathlib \n",
    "import numpy as np\n",
    "import pandas as pd\n",
    "import ipywidgets as widgets\n",
    "\n",
    "from whatlies import EmbeddingSet \n",
    "from whatlies.transformers import Pca, Umap\n",
    "from hulearn.preprocessing import InteractivePreprocessor\n",
    "from hulearn.experimental.interactive import InteractiveCharts\n",
    "from whatlies.language import UniversalSentenceLanguage, LaBSELanguage"
   ]
  }
 ],
 "metadata": {
  "kernelspec": {
   "display_name": "env",
   "language": "python",
   "name": "python3"
  },
  "language_info": {
   "name": "python",
   "version": "3.8.0 (tags/v3.8.0:fa919fd, Oct 14 2019, 19:37:50) [MSC v.1916 64 bit (AMD64)]"
  },
  "orig_nbformat": 4,
  "vscode": {
   "interpreter": {
    "hash": "3d0c32a0b60d0648371e98da90f122043fd757435ec9f16445842891d61e2681"
   }
  }
 },
 "nbformat": 4,
 "nbformat_minor": 2
}
