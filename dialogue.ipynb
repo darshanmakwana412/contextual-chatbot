{
 "cells": [
  {
   "cell_type": "code",
   "execution_count": 61,
   "metadata": {},
   "outputs": [],
   "source": [
    "import os\n",
    "import json\n",
    "import pandas as pd\n",
    "import matplotlib.pyplot as plt\n",
    "%matplotlib inline\n",
    "import seaborn as sns\n",
    "sns.set()\n",
    "import numpy as np"
   ]
  },
  {
   "cell_type": "code",
   "execution_count": 4,
   "metadata": {},
   "outputs": [],
   "source": [
    "dialogue_dir = \"dialogue_data\"\n",
    "train_data_path = os.path.join(dialogue_dir, \"train_data.json\")\n",
    "train_csv_path = os.path.join(dialogue_dir, \"train_data.csv\")"
   ]
  },
  {
   "cell_type": "code",
   "execution_count": 3,
   "metadata": {},
   "outputs": [],
   "source": [
    "# Creating a single json file for all the training dialogues\n",
    "\n",
    "train_data = []\n",
    "train_dir = os.path.join(dialogue_dir, \"train\")\n",
    "for dialogue in os.listdir(train_dir):\n",
    "    dialogue_path = os.path.join(train_dir, dialogue)\n",
    "    with open(dialogue_path, \"r\") as train_json:\n",
    "        dialogues = json.load(train_json)\n",
    "        train_data.extend(dialogues)\n",
    "    train_json.close()\n",
    "\n",
    "with open(train_data_path, \"w\") as train_json:\n",
    "    json.dump(train_data, train_json, indent=2)\n",
    "train_json.close()"
   ]
  },
  {
   "cell_type": "code",
   "execution_count": 5,
   "metadata": {},
   "outputs": [],
   "source": [
    "# Creating a csv file for the dialogues train dataset\n",
    "\n",
    "with open(train_data_path, \"r\") as train_json:\n",
    "    train_data = json.load(train_json)\n",
    "train_json.close()\n",
    "\n",
    "train_csv = []\n",
    "\n",
    "for dialogue in train_data:\n",
    "    for turn in dialogue[\"turns\"]:\n",
    "        row = {}\n",
    "        row[\"Speaker\"] = turn[\"speaker\"]\n",
    "        row[\"Turn ID\"] = turn[\"turn_id\"]\n",
    "        row[\"Utterence\"] = turn[\"utterance\"]\n",
    "        row[\"Dialogue ID\"] = dialogue[\"dialogue_id\"]\n",
    "        row[\"Intent\"] = \"\"\n",
    "        train_csv.append(row)\n",
    "train_csv = pd.DataFrame(train_csv, columns=[\"Dialogue ID\", \"Speaker\", \"Turn ID\", \"Utterence\", \"Intent\"])\n",
    "train_csv.to_csv(train_csv_path, index=False)"
   ]
  },
  {
   "cell_type": "markdown",
   "metadata": {},
   "source": [
    "# Bulk Labelling"
   ]
  },
  {
   "cell_type": "code",
   "execution_count": 6,
   "metadata": {},
   "outputs": [],
   "source": [
    "import pathlib \n",
    "import numpy as np\n",
    "import pandas as pd\n",
    "import ipywidgets as widgets\n",
    "\n",
    "from whatlies import EmbeddingSet \n",
    "from whatlies.transformers import Pca, Umap\n",
    "from hulearn.preprocessing import InteractivePreprocessor\n",
    "from hulearn.experimental.interactive import InteractiveCharts\n",
    "from whatlies.language import UniversalSentenceLanguage, LaBSELanguage, DIETLanguage, FloretLanguage"
   ]
  },
  {
   "cell_type": "code",
   "execution_count": 9,
   "metadata": {},
   "outputs": [],
   "source": [
    "no_samples = 1000\n",
    "\n",
    "user_dialogue = train_csv[train_csv[\"Speaker\"]==\"USER\"]\n",
    "user_dialogue = user_dialogue.drop_duplicates(\"Utterence\", keep=\"first\", inplace=False, ignore_index=True)\n",
    "user_dialogue = user_dialogue.sample(no_samples, ignore_index=True)"
   ]
  },
  {
   "cell_type": "code",
   "execution_count": 10,
   "metadata": {},
   "outputs": [
    {
     "data": {
      "text/html": [
       "<div>\n",
       "<style scoped>\n",
       "    .dataframe tbody tr th:only-of-type {\n",
       "        vertical-align: middle;\n",
       "    }\n",
       "\n",
       "    .dataframe tbody tr th {\n",
       "        vertical-align: top;\n",
       "    }\n",
       "\n",
       "    .dataframe thead th {\n",
       "        text-align: right;\n",
       "    }\n",
       "</style>\n",
       "<table border=\"1\" class=\"dataframe\">\n",
       "  <thead>\n",
       "    <tr style=\"text-align: right;\">\n",
       "      <th></th>\n",
       "      <th>Dialogue ID</th>\n",
       "      <th>Speaker</th>\n",
       "      <th>Turn ID</th>\n",
       "      <th>Utterence</th>\n",
       "      <th>Intent</th>\n",
       "    </tr>\n",
       "  </thead>\n",
       "  <tbody>\n",
       "    <tr>\n",
       "      <th>0</th>\n",
       "      <td>SNG0232.json</td>\n",
       "      <td>USER</td>\n",
       "      <td>2</td>\n",
       "      <td>Yes, please. May I also have the postcode?</td>\n",
       "      <td></td>\n",
       "    </tr>\n",
       "    <tr>\n",
       "      <th>1</th>\n",
       "      <td>MUL0921.json</td>\n",
       "      <td>USER</td>\n",
       "      <td>10</td>\n",
       "      <td>Can I get the postcode as well for it?</td>\n",
       "      <td></td>\n",
       "    </tr>\n",
       "    <tr>\n",
       "      <th>2</th>\n",
       "      <td>MUL1458.json</td>\n",
       "      <td>USER</td>\n",
       "      <td>8</td>\n",
       "      <td>Moderate please and thank you.</td>\n",
       "      <td></td>\n",
       "    </tr>\n",
       "    <tr>\n",
       "      <th>3</th>\n",
       "      <td>MUL2085.json</td>\n",
       "      <td>USER</td>\n",
       "      <td>6</td>\n",
       "      <td>That's not necessary. I need a place to stay too.</td>\n",
       "      <td></td>\n",
       "    </tr>\n",
       "    <tr>\n",
       "      <th>4</th>\n",
       "      <td>PMUL4568.json</td>\n",
       "      <td>USER</td>\n",
       "      <td>0</td>\n",
       "      <td>Can you help me out with some information on a...</td>\n",
       "      <td></td>\n",
       "    </tr>\n",
       "    <tr>\n",
       "      <th>...</th>\n",
       "      <td>...</td>\n",
       "      <td>...</td>\n",
       "      <td>...</td>\n",
       "      <td>...</td>\n",
       "      <td>...</td>\n",
       "    </tr>\n",
       "    <tr>\n",
       "      <th>995</th>\n",
       "      <td>PMUL4575.json</td>\n",
       "      <td>USER</td>\n",
       "      <td>6</td>\n",
       "      <td>Could you recommend one? I will be needing a t...</td>\n",
       "      <td></td>\n",
       "    </tr>\n",
       "    <tr>\n",
       "      <th>996</th>\n",
       "      <td>MUL2353.json</td>\n",
       "      <td>USER</td>\n",
       "      <td>6</td>\n",
       "      <td>It doesn't matter what area it's in and I'll b...</td>\n",
       "      <td></td>\n",
       "    </tr>\n",
       "    <tr>\n",
       "      <th>997</th>\n",
       "      <td>MUL1518.json</td>\n",
       "      <td>USER</td>\n",
       "      <td>8</td>\n",
       "      <td>I need to travel from Cambridge to Stansted Ai...</td>\n",
       "      <td></td>\n",
       "    </tr>\n",
       "    <tr>\n",
       "      <th>998</th>\n",
       "      <td>PMUL1428.json</td>\n",
       "      <td>USER</td>\n",
       "      <td>8</td>\n",
       "      <td>I would like the phone number and postcode for...</td>\n",
       "      <td></td>\n",
       "    </tr>\n",
       "    <tr>\n",
       "      <th>999</th>\n",
       "      <td>PMUL3223.json</td>\n",
       "      <td>USER</td>\n",
       "      <td>10</td>\n",
       "      <td>That is all for the hotel room. could you help...</td>\n",
       "      <td></td>\n",
       "    </tr>\n",
       "  </tbody>\n",
       "</table>\n",
       "<p>1000 rows × 5 columns</p>\n",
       "</div>"
      ],
      "text/plain": [
       "       Dialogue ID Speaker Turn ID  \\\n",
       "0     SNG0232.json    USER       2   \n",
       "1     MUL0921.json    USER      10   \n",
       "2     MUL1458.json    USER       8   \n",
       "3     MUL2085.json    USER       6   \n",
       "4    PMUL4568.json    USER       0   \n",
       "..             ...     ...     ...   \n",
       "995  PMUL4575.json    USER       6   \n",
       "996   MUL2353.json    USER       6   \n",
       "997   MUL1518.json    USER       8   \n",
       "998  PMUL1428.json    USER       8   \n",
       "999  PMUL3223.json    USER      10   \n",
       "\n",
       "                                             Utterence Intent  \n",
       "0           Yes, please. May I also have the postcode?         \n",
       "1               Can I get the postcode as well for it?         \n",
       "2                       Moderate please and thank you.         \n",
       "3    That's not necessary. I need a place to stay too.         \n",
       "4    Can you help me out with some information on a...         \n",
       "..                                                 ...    ...  \n",
       "995  Could you recommend one? I will be needing a t...         \n",
       "996  It doesn't matter what area it's in and I'll b...         \n",
       "997  I need to travel from Cambridge to Stansted Ai...         \n",
       "998  I would like the phone number and postcode for...         \n",
       "999  That is all for the hotel room. could you help...         \n",
       "\n",
       "[1000 rows x 5 columns]"
      ]
     },
     "execution_count": 10,
     "metadata": {},
     "output_type": "execute_result"
    }
   ],
   "source": [
    "user_dialogue"
   ]
  },
  {
   "cell_type": "code",
   "execution_count": 13,
   "metadata": {},
   "outputs": [
    {
     "name": "stdout",
     "output_type": "stream",
     "text": [
      "1000\n"
     ]
    }
   ],
   "source": [
    "texts = user_dialogue[\"Utterence\"].to_list()\n",
    "print(len(texts))"
   ]
  },
  {
   "cell_type": "code",
   "execution_count": 14,
   "metadata": {},
   "outputs": [],
   "source": [
    "# The language agnostic bert model works is a good starting option, \n",
    "# especially for Non-English use-cases but it is a fair bit slower.\n",
    "# You can swap this out with another embedding source if you feel like though. \n",
    "# lang = LaBSELanguage()\n",
    "lang = UniversalSentenceLanguage(variant=\"large\")\n",
    "# lang = DIETLanguage()\n",
    "# lang = FloretLanguage()"
   ]
  },
  {
   "cell_type": "code",
   "execution_count": 15,
   "metadata": {},
   "outputs": [],
   "source": [
    "# This is where we prepare all of the state\n",
    "embset = lang[texts]\n",
    "df = embset.transform(Umap(2)).to_dataframe().reset_index()\n",
    "df.columns = ['text', 'd1', 'd2']\n",
    "df['label'] = ''"
   ]
  },
  {
   "cell_type": "code",
   "execution_count": 16,
   "metadata": {},
   "outputs": [
    {
     "data": {
      "text/html": [
       "<div>\n",
       "<style scoped>\n",
       "    .dataframe tbody tr th:only-of-type {\n",
       "        vertical-align: middle;\n",
       "    }\n",
       "\n",
       "    .dataframe tbody tr th {\n",
       "        vertical-align: top;\n",
       "    }\n",
       "\n",
       "    .dataframe thead th {\n",
       "        text-align: right;\n",
       "    }\n",
       "</style>\n",
       "<table border=\"1\" class=\"dataframe\">\n",
       "  <thead>\n",
       "    <tr style=\"text-align: right;\">\n",
       "      <th></th>\n",
       "      <th>text</th>\n",
       "      <th>d1</th>\n",
       "      <th>d2</th>\n",
       "      <th>label</th>\n",
       "    </tr>\n",
       "  </thead>\n",
       "  <tbody>\n",
       "    <tr>\n",
       "      <th>0</th>\n",
       "      <td>Yes, please. May I also have the postcode?</td>\n",
       "      <td>9.855291</td>\n",
       "      <td>4.512282</td>\n",
       "      <td></td>\n",
       "    </tr>\n",
       "    <tr>\n",
       "      <th>1</th>\n",
       "      <td>Can I get the postcode as well for it?</td>\n",
       "      <td>10.146383</td>\n",
       "      <td>4.468706</td>\n",
       "      <td></td>\n",
       "    </tr>\n",
       "    <tr>\n",
       "      <th>2</th>\n",
       "      <td>Moderate please and thank you.</td>\n",
       "      <td>8.968555</td>\n",
       "      <td>3.091463</td>\n",
       "      <td></td>\n",
       "    </tr>\n",
       "    <tr>\n",
       "      <th>3</th>\n",
       "      <td>That's not necessary. I need a place to stay too.</td>\n",
       "      <td>9.457198</td>\n",
       "      <td>1.078039</td>\n",
       "      <td></td>\n",
       "    </tr>\n",
       "    <tr>\n",
       "      <th>4</th>\n",
       "      <td>Can you help me out with some information on a...</td>\n",
       "      <td>10.042346</td>\n",
       "      <td>0.597993</td>\n",
       "      <td></td>\n",
       "    </tr>\n",
       "    <tr>\n",
       "      <th>...</th>\n",
       "      <td>...</td>\n",
       "      <td>...</td>\n",
       "      <td>...</td>\n",
       "      <td>...</td>\n",
       "    </tr>\n",
       "    <tr>\n",
       "      <th>995</th>\n",
       "      <td>Could you recommend one? I will be needing a t...</td>\n",
       "      <td>8.353865</td>\n",
       "      <td>7.253991</td>\n",
       "      <td></td>\n",
       "    </tr>\n",
       "    <tr>\n",
       "      <th>996</th>\n",
       "      <td>It doesn't matter what area it's in and I'll b...</td>\n",
       "      <td>8.188387</td>\n",
       "      <td>7.156896</td>\n",
       "      <td></td>\n",
       "    </tr>\n",
       "    <tr>\n",
       "      <th>997</th>\n",
       "      <td>I need to travel from Cambridge to Stansted Ai...</td>\n",
       "      <td>12.421236</td>\n",
       "      <td>9.610916</td>\n",
       "      <td></td>\n",
       "    </tr>\n",
       "    <tr>\n",
       "      <th>998</th>\n",
       "      <td>I would like the phone number and postcode for...</td>\n",
       "      <td>10.056103</td>\n",
       "      <td>4.578412</td>\n",
       "      <td></td>\n",
       "    </tr>\n",
       "    <tr>\n",
       "      <th>999</th>\n",
       "      <td>That is all for the hotel room. could you help...</td>\n",
       "      <td>10.707042</td>\n",
       "      <td>9.269948</td>\n",
       "      <td></td>\n",
       "    </tr>\n",
       "  </tbody>\n",
       "</table>\n",
       "<p>1000 rows × 4 columns</p>\n",
       "</div>"
      ],
      "text/plain": [
       "                                                  text         d1        d2  \\\n",
       "0           Yes, please. May I also have the postcode?   9.855291  4.512282   \n",
       "1               Can I get the postcode as well for it?  10.146383  4.468706   \n",
       "2                       Moderate please and thank you.   8.968555  3.091463   \n",
       "3    That's not necessary. I need a place to stay too.   9.457198  1.078039   \n",
       "4    Can you help me out with some information on a...  10.042346  0.597993   \n",
       "..                                                 ...        ...       ...   \n",
       "995  Could you recommend one? I will be needing a t...   8.353865  7.253991   \n",
       "996  It doesn't matter what area it's in and I'll b...   8.188387  7.156896   \n",
       "997  I need to travel from Cambridge to Stansted Ai...  12.421236  9.610916   \n",
       "998  I would like the phone number and postcode for...  10.056103  4.578412   \n",
       "999  That is all for the hotel room. could you help...  10.707042  9.269948   \n",
       "\n",
       "    label  \n",
       "0          \n",
       "1          \n",
       "2          \n",
       "3          \n",
       "4          \n",
       "..    ...  \n",
       "995        \n",
       "996        \n",
       "997        \n",
       "998        \n",
       "999        \n",
       "\n",
       "[1000 rows x 4 columns]"
      ]
     },
     "execution_count": 16,
     "metadata": {},
     "output_type": "execute_result"
    }
   ],
   "source": [
    "df"
   ]
  },
  {
   "cell_type": "code",
   "execution_count": 74,
   "metadata": {},
   "outputs": [
    {
     "data": {
      "image/png": "[encoded data removed]",
      "text/plain": [
       "<Figure size 640x480 with 1 Axes>"
      ]
     },
     "metadata": {},
     "output_type": "display_data"
    }
   ],
   "source": [
    "data = df[[\"d1\", \"d2\"]].to_numpy()\n",
    "plt.scatter(data[:, 0], data[:, 1], s=10)\n",
    "plt.tick_params(left = False, right = False , labelleft = False , labelbottom = False, bottom = False)"
   ]
  },
  {
   "cell_type": "code",
   "execution_count": 77,
   "metadata": {},
   "outputs": [
    {
     "data": {
      "text/plain": [
       "<matplotlib.collections.PathCollection at 0x22864880160>"
      ]
     },
     "execution_count": 77,
     "metadata": {},
     "output_type": "execute_result"
    },
    {
     "data": {
      "image/png": "[encoded data removed]",
      "text/plain": [
       "<Figure size 640x480 with 1 Axes>"
      ]
     },
     "metadata": {},
     "output_type": "display_data"
    }
   ],
   "source": [
    "from sklearn.cluster import KMeans, SpectralClustering\n",
    "model = KMeans(n_clusters=12)\n",
    "# model = SpectralClustering(n_clusters=12, affinity='nearest_neighbors', assign_labels='kmeans')\n",
    "y_kmeans = model.fit_predict(data)\n",
    "\n",
    "plt.scatter(data[:, 0], data[:, 1], c=y_kmeans, s=10, cmap='viridis')\n",
    "plt.tick_params(left = False, right = False , labelleft = False , labelbottom = False, bottom = False)\n",
    "\n",
    "centers = model.cluster_centers_\n",
    "plt.scatter(centers[:, 0], centers[:, 1], c='black', s=50, alpha=0.8)"
   ]
  },
  {
   "cell_type": "code",
   "execution_count": 75,
   "metadata": {},
   "outputs": [],
   "source": [
    "df[\"label\"] = y_kmeans\n",
    "df.to_csv(\"./dialogue_data/user_dialogue.csv\", index=False)"
   ]
  },
  {
   "cell_type": "code",
   "execution_count": 29,
   "metadata": {},
   "outputs": [
    {
     "data": {
      "text/html": [
       "<style>\n",
       "        .bk-notebook-logo {\n",
       "            display: block;\n",
       "            width: 20px;\n",
       "            height: 20px;\n",
       "            background-image: url(data:image/png;base64,iVBORw0KGgoAAAANSUhEUgAAABQAAAAUCAYAAACNiR0NAAAABHNCSVQICAgIfAhkiAAAAAlwSFlzAAALEgAACxIB0t1+/AAAABx0RVh0U29mdHdhcmUAQWRvYmUgRmlyZXdvcmtzIENTNui8sowAAAOkSURBVDiNjZRtaJVlGMd/1/08zzln5zjP1LWcU9N0NkN8m2CYjpgQYQXqSs0I84OLIC0hkEKoPtiH3gmKoiJDU7QpLgoLjLIQCpEsNJ1vqUOdO7ppbuec5+V+rj4ctwzd8IIbbi6u+8f1539dt3A78eXC7QizUF7gyV1fD1Yqg4JWz84yffhm0qkFqBogB9rM8tZdtwVsPUhWhGcFJngGeWrPzHm5oaMmkfEg1usvLFyc8jLRqDOMru7AyC8saQr7GG7f5fvDeH7Ej8CM66nIF+8yngt6HWaKh7k49Soy9nXurCi1o3qUbS3zWfrYeQDTB/Qj6kX6Ybhw4B+bOYoLKCC9H3Nu/leUTZ1JdRWkkn2ldcCamzrcf47KKXdAJllSlxAOkRgyHsGC/zRday5Qld9DyoM4/q/rUoy/CXh3jzOu3bHUVZeU+DEn8FInkPBFlu3+nW3Nw0mk6vCDiWg8CeJaxEwuHS3+z5RgY+YBR6V1Z1nxSOfoaPa4LASWxxdNp+VWTk7+4vzaou8v8PN+xo+KY2xsw6une2frhw05CTYOmQvsEhjhWjn0bmXPjpE1+kplmmkP3suftwTubK9Vq22qKmrBhpY4jvd5afdRA3wGjFAgcnTK2s4hY0/GPNIb0nErGMCRxWOOX64Z8RAC4oCXdklmEvcL8o0BfkNK4lUg9HTl+oPlQxdNo3Mg4Nv175e/1LDGzZen30MEjRUtmXSfiTVu1kK8W4txyV6BMKlbgk3lMwYCiusNy9fVfvvwMxv8Ynl6vxoByANLTWplvuj/nF9m2+PDtt1eiHPBr1oIfhCChQMBw6Aw0UulqTKZdfVvfG7VcfIqLG9bcldL/+pdWTLxLUy8Qq38heUIjh4XlzZxzQm19lLFlr8vdQ97rjZVOLf8nclzckbcD4wxXMidpX30sFd37Fv/GtwwhzhxGVAprjbg0gCAEeIgwCZyTV2Z1REEW8O4py0wsjeloKoMr6iCY6dP92H6Vw/oTyICIthibxjm/DfN9lVz8IqtqKYLUXfoKVMVQVVJOElGjrnnUt9T9wbgp8AyYKaGlqingHZU/uG2NTZSVqwHQTWkx9hxjkpWDaCg6Ckj5qebgBVbT3V3NNXMSiWSDdGV3hrtzla7J+duwPOToIg42ChPQOQjspnSlp1V+Gjdged7+8UN5CRAV7a5EdFNwCjEaBR27b3W890TE7g24NAP/mMDXRWrGoFPQI9ls/MWO2dWFAar/xcOIImbbpA3zgAAAABJRU5ErkJggg==);\n",
       "        }\n",
       "    </style>\n",
       "    <div>\n",
       "        <a href=\"https://bokeh.org\" target=\"_blank\" class=\"bk-notebook-logo\"></a>\n",
       "        <span id=\"p1677\">Loading BokehJS ...</span>\n",
       "    </div>\n"
      ]
     },
     "metadata": {},
     "output_type": "display_data"
    },
    {
     "data": {
      "application/javascript": "(function(root) {\n  function now() {\n    return new Date();\n  }\n\n  const force = true;\n\n  if (typeof root._bokeh_onload_callbacks === \"undefined\" || force === true) {\n    root._bokeh_onload_callbacks = [];\n    root._bokeh_is_loading = undefined;\n  }\n\nconst JS_MIME_TYPE = 'application/javascript';\n  const HTML_MIME_TYPE = 'text/html';\n  const EXEC_MIME_TYPE = 'application/vnd.bokehjs_exec.v0+json';\n  const CLASS_NAME = 'output_bokeh rendered_html';\n\n  /**\n   * Render data to the DOM node\n   */\n  function render(props, node) {\n    const script = document.createElement(\"script\");\n    node.appendChild(script);\n  }\n\n  /**\n   * Handle when an output is cleared or removed\n   */\n  function handleClearOutput(event, handle) {\n    const cell = handle.cell;\n\n    const id = cell.output_area._bokeh_element_id;\n    const server_id = cell.output_area._bokeh_server_id;\n    // Clean up Bokeh references\n    if (id != null && id in Bokeh.index) {\n      Bokeh.index[id].model.document.clear();\n      delete Bokeh.index[id];\n    }\n\n    if (server_id !== undefined) {\n      // Clean up Bokeh references\n      const cmd_clean = \"from bokeh.io.state import curstate; print(curstate().uuid_to_server['\" + server_id + \"'].get_sessions()[0].document.roots[0]._id)\";\n      cell.notebook.kernel.execute(cmd_clean, {\n        iopub: {\n          output: function(msg) {\n            const id = msg.content.text.trim();\n            if (id in Bokeh.index) {\n              Bokeh.index[id].model.document.clear();\n              delete Bokeh.index[id];\n            }\n          }\n        }\n      });\n      // Destroy server and session\n      const cmd_destroy = \"import bokeh.io.notebook as ion; ion.destroy_server('\" + server_id + \"')\";\n      cell.notebook.kernel.execute(cmd_destroy);\n    }\n  }\n\n  /**\n   * Handle when a new output is added\n   */\n  function handleAddOutput(event, handle) {\n    const output_area = handle.output_area;\n    const output = handle.output;\n\n    // limit handleAddOutput to display_data with EXEC_MIME_TYPE content only\n    if ((output.output_type != \"display_data\") || (!Object.prototype.hasOwnProperty.call(output.data, EXEC_MIME_TYPE))) {\n      return\n    }\n\n    const toinsert = output_area.element.find(\".\" + CLASS_NAME.split(' ')[0]);\n\n    if (output.metadata[EXEC_MIME_TYPE][\"id\"] !== undefined) {\n      toinsert[toinsert.length - 1].firstChild.textContent = output.data[JS_MIME_TYPE];\n      // store reference to embed id on output_area\n      output_area._bokeh_element_id = output.metadata[EXEC_MIME_TYPE][\"id\"];\n    }\n    if (output.metadata[EXEC_MIME_TYPE][\"server_id\"] !== undefined) {\n      const bk_div = document.createElement(\"div\");\n      bk_div.innerHTML = output.data[HTML_MIME_TYPE];\n      const script_attrs = bk_div.children[0].attributes;\n      for (let i = 0; i < script_attrs.length; i++) {\n        toinsert[toinsert.length - 1].firstChild.setAttribute(script_attrs[i].name, script_attrs[i].value);\n        toinsert[toinsert.length - 1].firstChild.textContent = bk_div.children[0].textContent\n      }\n      // store reference to server id on output_area\n      output_area._bokeh_server_id = output.metadata[EXEC_MIME_TYPE][\"server_id\"];\n    }\n  }\n\n  function register_renderer(events, OutputArea) {\n\n    function append_mime(data, metadata, element) {\n      // create a DOM node to render to\n      const toinsert = this.create_output_subarea(\n        metadata,\n        CLASS_NAME,\n        EXEC_MIME_TYPE\n      );\n      this.keyboard_manager.register_events(toinsert);\n      // Render to node\n      const props = {data: data, metadata: metadata[EXEC_MIME_TYPE]};\n      render(props, toinsert[toinsert.length - 1]);\n      element.append(toinsert);\n      return toinsert\n    }\n\n    /* Handle when an output is cleared or removed */\n    events.on('clear_output.CodeCell', handleClearOutput);\n    events.on('delete.Cell', handleClearOutput);\n\n    /* Handle when a new output is added */\n    events.on('output_added.OutputArea', handleAddOutput);\n\n    /**\n     * Register the mime type and append_mime function with output_area\n     */\n    OutputArea.prototype.register_mime_type(EXEC_MIME_TYPE, append_mime, {\n      /* Is output safe? */\n      safe: true,\n      /* Index of renderer in `output_area.display_order` */\n      index: 0\n    });\n  }\n\n  // register the mime type if in Jupyter Notebook environment and previously unregistered\n  if (root.Jupyter !== undefined) {\n    const events = require('base/js/events');\n    const OutputArea = require('notebook/js/outputarea').OutputArea;\n\n    if (OutputArea.prototype.mime_types().indexOf(EXEC_MIME_TYPE) == -1) {\n      register_renderer(events, OutputArea);\n    }\n  }\n  if (typeof (root._bokeh_timeout) === \"undefined\" || force === true) {\n    root._bokeh_timeout = Date.now() + 5000;\n    root._bokeh_failed_load = false;\n  }\n\n  const NB_LOAD_WARNING = {'data': {'text/html':\n     \"<div style='background-color: #fdd'>\\n\"+\n     \"<p>\\n\"+\n     \"BokehJS does not appear to have successfully loaded. If loading BokehJS from CDN, this \\n\"+\n     \"may be due to a slow or bad network connection. Possible fixes:\\n\"+\n     \"</p>\\n\"+\n     \"<ul>\\n\"+\n     \"<li>re-rerun `output_notebook()` to attempt to load from CDN again, or</li>\\n\"+\n     \"<li>use INLINE resources instead, as so:</li>\\n\"+\n     \"</ul>\\n\"+\n     \"<code>\\n\"+\n     \"from bokeh.resources import INLINE\\n\"+\n     \"output_notebook(resources=INLINE)\\n\"+\n     \"</code>\\n\"+\n     \"</div>\"}};\n\n  function display_loaded() {\n    const el = document.getElementById(\"p1677\");\n    if (el != null) {\n      el.textContent = \"BokehJS is loading...\";\n    }\n    if (root.Bokeh !== undefined) {\n      if (el != null) {\n        el.textContent = \"BokehJS \" + root.Bokeh.version + \" successfully loaded.\";\n      }\n    } else if (Date.now() < root._bokeh_timeout) {\n      setTimeout(display_loaded, 100)\n    }\n  }\n\n  function run_callbacks() {\n    try {\n      root._bokeh_onload_callbacks.forEach(function(callback) {\n        if (callback != null)\n          callback();\n      });\n    } finally {\n      delete root._bokeh_onload_callbacks\n    }\n    console.debug(\"Bokeh: all callbacks have finished\");\n  }\n\n  function load_libs(css_urls, js_urls, callback) {\n    if (css_urls == null) css_urls = [];\n    if (js_urls == null) js_urls = [];\n\n    root._bokeh_onload_callbacks.push(callback);\n    if (root._bokeh_is_loading > 0) {\n      console.debug(\"Bokeh: BokehJS is being loaded, scheduling callback at\", now());\n      return null;\n    }\n    if (js_urls == null || js_urls.length === 0) {\n      run_callbacks();\n      return null;\n    }\n    console.debug(\"Bokeh: BokehJS not loaded, scheduling load and callback at\", now());\n    root._bokeh_is_loading = css_urls.length + js_urls.length;\n\n    function on_load() {\n      root._bokeh_is_loading--;\n      if (root._bokeh_is_loading === 0) {\n        console.debug(\"Bokeh: all BokehJS libraries/stylesheets loaded\");\n        run_callbacks()\n      }\n    }\n\n    function on_error(url) {\n      console.error(\"failed to load \" + url);\n    }\n\n    for (let i = 0; i < css_urls.length; i++) {\n      const url = css_urls[i];\n      const element = document.createElement(\"link\");\n      element.onload = on_load;\n      element.onerror = on_error.bind(null, url);\n      element.rel = \"stylesheet\";\n      element.type = \"text/css\";\n      element.href = url;\n      console.debug(\"Bokeh: injecting link tag for BokehJS stylesheet: \", url);\n      document.body.appendChild(element);\n    }\n\n    for (let i = 0; i < js_urls.length; i++) {\n      const url = js_urls[i];\n      const element = document.createElement('script');\n      element.onload = on_load;\n      element.onerror = on_error.bind(null, url);\n      element.async = false;\n      element.src = url;\n      console.debug(\"Bokeh: injecting script tag for BokehJS library: \", url);\n      document.head.appendChild(element);\n    }\n  };\n\n  function inject_raw_css(css) {\n    const element = document.createElement(\"style\");\n    element.appendChild(document.createTextNode(css));\n    document.body.appendChild(element);\n  }\n\n  const js_urls = [\"https://cdn.bokeh.org/bokeh/release/bokeh-3.0.3.min.js\", \"https://cdn.bokeh.org/bokeh/release/bokeh-gl-3.0.3.min.js\", \"https://cdn.bokeh.org/bokeh/release/bokeh-widgets-3.0.3.min.js\", \"https://cdn.bokeh.org/bokeh/release/bokeh-tables-3.0.3.min.js\", \"https://cdn.bokeh.org/bokeh/release/bokeh-mathjax-3.0.3.min.js\"];\n  const css_urls = [];\n\n  const inline_js = [    function(Bokeh) {\n      Bokeh.set_log_level(\"info\");\n    },\nfunction(Bokeh) {\n    }\n  ];\n\n  function run_inline_js() {\n    if (root.Bokeh !== undefined || force === true) {\n          for (let i = 0; i < inline_js.length; i++) {\n      inline_js[i].call(root, root.Bokeh);\n    }\nif (force === true) {\n        display_loaded();\n      }} else if (Date.now() < root._bokeh_timeout) {\n      setTimeout(run_inline_js, 100);\n    } else if (!root._bokeh_failed_load) {\n      console.log(\"Bokeh: BokehJS failed to load within specified timeout.\");\n      root._bokeh_failed_load = true;\n    } else if (force !== true) {\n      const cell = $(document.getElementById(\"p1677\")).parents('.cell').data().cell;\n      cell.output_area.append_execute_result(NB_LOAD_WARNING)\n    }\n  }\n\n  if (root._bokeh_is_loading === 0) {\n    console.debug(\"Bokeh: BokehJS loaded, going straight to plotting\");\n    run_inline_js();\n  } else {\n    load_libs(css_urls, js_urls, function() {\n      console.debug(\"Bokeh: BokehJS plotting callback run at\", now());\n      run_inline_js();\n    });\n  }\n}(window));",
      "application/vnd.bokehjs_load.v0+json": ""
     },
     "metadata": {},
     "output_type": "display_data"
    }
   ],
   "source": [
    "# Here's the global state object\n",
    "state = {}\n",
    "state['df'] = df.copy()\n",
    "state['chart'] = InteractiveCharts(df.loc[lambda d: d['label'] == ''], labels=['group'])"
   ]
  },
  {
   "cell_type": "code",
   "execution_count": 53,
   "metadata": {},
   "outputs": [
    {
     "data": {
      "application/vnd.bokehjs_exec.v0+json": "",
      "text/html": [
       "<script id=\"p5892\">\n",
       "  (function() {\n",
       "    const xhr = new XMLHttpRequest()\n",
       "    xhr.responseType = 'blob';\n",
       "    xhr.open('GET', \"http://localhost:59708/autoload.js?bokeh-autoload-element=p5892&bokeh-absolute-url=http://localhost:59708&resources=none\", true);\n",
       "    xhr.onload = function (event) {\n",
       "      const script = document.createElement('script');\n",
       "      const src = URL.createObjectURL(event.target.response);\n",
       "      script.src = src;\n",
       "      document.body.appendChild(script);\n",
       "    };\n",
       "    xhr.send();\n",
       "  })();\n",
       "</script>"
      ]
     },
     "metadata": {
      "application/vnd.bokehjs_exec.v0+json": {
       "server_id": "9a24a0d6850c4fdaa0b28c25c255543b"
      }
     },
     "output_type": "display_data"
    },
    {
     "data": {
      "application/vnd.jupyter.widget-view+json": {
       "model_id": "0924ac7faf694fabb602d32a3029380c",
       "version_major": 2,
       "version_minor": 0
      },
      "text/plain": [
       "VBox(children=(HBox(children=(Button(description='Retrain', icon='coffee', style=ButtonStyle()), Button(descri…"
      ]
     },
     "metadata": {},
     "output_type": "display_data"
    },
    {
     "data": {
      "application/vnd.jupyter.widget-view+json": {
       "model_id": "199405f7bd0e494a8814420dc5d9fdf3",
       "version_major": 2,
       "version_minor": 0
      },
      "text/plain": [
       "Text(value='label name')"
      ]
     },
     "metadata": {},
     "output_type": "display_data"
    },
    {
     "data": {
      "application/vnd.jupyter.widget-view+json": {
       "model_id": "d7caaf5cc2f148c0810bbb17f0b5654b",
       "version_major": 2,
       "version_minor": 0
      },
      "text/plain": [
       "HBox(children=(Button(description='Add label', icon='check', style=ButtonStyle()), Output()))"
      ]
     },
     "metadata": {},
     "output_type": "display_data"
    }
   ],
   "source": [
    "pd.set_option('display.max_colwidth', -1)\n",
    "\n",
    "def show_draw_chart(b=None):\n",
    "    with out_table:\n",
    "        out_table.clear_output()\n",
    "    with out_chart:\n",
    "        out_chart.clear_output()\n",
    "        state['chart'].dataf = state['df'].loc[lambda d: d['label'] == '']\n",
    "        state['chart'].charts = []\n",
    "        state['chart'].add_chart(x='d1', y='d2', legend=False)\n",
    "\n",
    "def show_examples(b=None):\n",
    "    with out_table:\n",
    "        out_table.clear_output()\n",
    "        tfm = InteractivePreprocessor(json_desc=state['chart'].data())\n",
    "        subset = state['df'].pipe(tfm.pandas_pipe).loc[lambda d: d['group'] != 0]\n",
    "        display(subset.sample(min(15, subset.shape[0]))[['text']])\n",
    "\n",
    "def assign_label(b=None):\n",
    "    tfm = InteractivePreprocessor(json_desc=state['chart'].data())\n",
    "    idx = state['df'].pipe(tfm.pandas_pipe).loc[lambda d: d['group'] != 0].index\n",
    "    state['df'].iloc[idx, 3] = label_name.value\n",
    "    with out_counter:\n",
    "        out_counter.clear_output()\n",
    "        n_lab = state['df'].loc[lambda d: d['label'] != ''].shape[0]\n",
    "        print(f\"{n_lab}/{state['df'].shape[0]} labelled\")\n",
    "\n",
    "def retrain_state(b=None):\n",
    "    keep = list(state['df'].loc[lambda d: d['label'] == '']['text'])\n",
    "    umap = Umap(2)\n",
    "    new_df = EmbeddingSet(*[e for e in embset if e.name in keep]).transform(umap).to_dataframe().reset_index()\n",
    "    new_df.columns = ['text', 'd1', 'd2']\n",
    "    new_df['label'] = ''\n",
    "    state['df'] = pd.concat([new_df, state['df'].loc[lambda d: d['label'] != '']])\n",
    "    show_draw_chart(b)\n",
    "\n",
    "out_table = widgets.Output()\n",
    "out_chart = widgets.Output()\n",
    "out_counter = widgets.Output()\n",
    "\n",
    "label_name = widgets.Text(\"label name\")\n",
    "\n",
    "btn_examples = widgets.Button(\n",
    "    description='Show Examples',\n",
    "    icon='eye'\n",
    ")\n",
    "\n",
    "btn_label = widgets.Button(\n",
    "    description='Add label',\n",
    "    icon='check'\n",
    ")\n",
    "\n",
    "btn_retrain = widgets.Button(\n",
    "    description='Retrain',\n",
    "    icon='coffee'\n",
    ")\n",
    "\n",
    "btn_redraw = widgets.Button(\n",
    "    description='Redraw',\n",
    "    icon='check'\n",
    ")\n",
    "\n",
    "btn_examples.on_click(show_examples)\n",
    "btn_label.on_click(assign_label)\n",
    "btn_redraw.on_click(show_draw_chart)\n",
    "btn_retrain.on_click(retrain_state)\n",
    "\n",
    "show_draw_chart()\n",
    "display(widgets.VBox([widgets.HBox([btn_retrain, btn_examples, btn_redraw]), \n",
    "                      widgets.HBox([out_chart, out_table])]), \n",
    "        label_name, \n",
    "        widgets.HBox([btn_label, out_counter]))"
   ]
  },
  {
   "cell_type": "code",
   "execution_count": 20,
   "metadata": {},
   "outputs": [
    {
     "data": {
      "text/html": [
       "<div>\n",
       "<style scoped>\n",
       "    .dataframe tbody tr th:only-of-type {\n",
       "        vertical-align: middle;\n",
       "    }\n",
       "\n",
       "    .dataframe tbody tr th {\n",
       "        vertical-align: top;\n",
       "    }\n",
       "\n",
       "    .dataframe thead th {\n",
       "        text-align: right;\n",
       "    }\n",
       "</style>\n",
       "<table border=\"1\" class=\"dataframe\">\n",
       "  <thead>\n",
       "    <tr style=\"text-align: right;\">\n",
       "      <th></th>\n",
       "      <th>text</th>\n",
       "      <th>d1</th>\n",
       "      <th>d2</th>\n",
       "      <th>label</th>\n",
       "    </tr>\n",
       "  </thead>\n",
       "  <tbody>\n",
       "    <tr>\n",
       "      <th>0</th>\n",
       "      <td>Are there any restaurants in the centre that serves North American type of food?</td>\n",
       "      <td>12.759892</td>\n",
       "      <td>-1.162512</td>\n",
       "      <td></td>\n",
       "    </tr>\n",
       "    <tr>\n",
       "      <th>1</th>\n",
       "      <td>Oh wait, you know what? I forgot to ask about star ratings. What's the star rating on the A and B Guest House, please?</td>\n",
       "      <td>7.568747</td>\n",
       "      <td>-1.182581</td>\n",
       "      <td></td>\n",
       "    </tr>\n",
       "    <tr>\n",
       "      <th>2</th>\n",
       "      <td>I am leaving cambridge on Tuesday and going to Birmingham new street.</td>\n",
       "      <td>13.244747</td>\n",
       "      <td>4.254968</td>\n",
       "      <td></td>\n",
       "    </tr>\n",
       "    <tr>\n",
       "      <th>3</th>\n",
       "      <td>That's okay, could you provide me with the postcode and address, please? Also, I am looking for a train leaving after 16:00 this Monday.</td>\n",
       "      <td>10.788860</td>\n",
       "      <td>6.066881</td>\n",
       "      <td></td>\n",
       "    </tr>\n",
       "    <tr>\n",
       "      <th>4</th>\n",
       "      <td>I'm awful with math, what is the travel time on that train?</td>\n",
       "      <td>10.355771</td>\n",
       "      <td>5.620865</td>\n",
       "      <td></td>\n",
       "    </tr>\n",
       "    <tr>\n",
       "      <th>...</th>\n",
       "      <td>...</td>\n",
       "      <td>...</td>\n",
       "      <td>...</td>\n",
       "      <td>...</td>\n",
       "    </tr>\n",
       "    <tr>\n",
       "      <th>983</th>\n",
       "      <td>Looking for something in the North, cheap price range please. Don't care much about internet.</td>\n",
       "      <td>9.402921</td>\n",
       "      <td>-1.351047</td>\n",
       "      <td></td>\n",
       "    </tr>\n",
       "    <tr>\n",
       "      <th>984</th>\n",
       "      <td>What is the travel time for the one arriving at 1:44.</td>\n",
       "      <td>10.176835</td>\n",
       "      <td>5.471220</td>\n",
       "      <td></td>\n",
       "    </tr>\n",
       "    <tr>\n",
       "      <th>985</th>\n",
       "      <td>I'm looking for a train from Cambridge to Leicester on Monday.</td>\n",
       "      <td>12.928972</td>\n",
       "      <td>5.968725</td>\n",
       "      <td></td>\n",
       "    </tr>\n",
       "    <tr>\n",
       "      <th>986</th>\n",
       "      <td>Would 1 night work instead? If it does could I get the reference number please?</td>\n",
       "      <td>7.994438</td>\n",
       "      <td>5.547698</td>\n",
       "      <td></td>\n",
       "    </tr>\n",
       "    <tr>\n",
       "      <th>987</th>\n",
       "      <td>Okay I would like to make a booking for 5 people and 4 nights starting from wednesday.</td>\n",
       "      <td>8.181626</td>\n",
       "      <td>7.090454</td>\n",
       "      <td></td>\n",
       "    </tr>\n",
       "  </tbody>\n",
       "</table>\n",
       "<p>988 rows × 4 columns</p>\n",
       "</div>"
      ],
      "text/plain": [
       "                                                                                                                                         text  \\\n",
       "0    Are there any restaurants in the centre that serves North American type of food?                                                           \n",
       "1    Oh wait, you know what? I forgot to ask about star ratings. What's the star rating on the A and B Guest House, please?                     \n",
       "2    I am leaving cambridge on Tuesday and going to Birmingham new street.                                                                      \n",
       "3    That's okay, could you provide me with the postcode and address, please? Also, I am looking for a train leaving after 16:00 this Monday.   \n",
       "4    I'm awful with math, what is the travel time on that train?                                                                                \n",
       "..                                                           ...                                                                                \n",
       "983  Looking for something in the North, cheap price range please. Don't care much about internet.                                              \n",
       "984  What is the travel time for the one arriving at 1:44.                                                                                      \n",
       "985  I'm looking for a train from Cambridge to Leicester on Monday.                                                                             \n",
       "986  Would 1 night work instead? If it does could I get the reference number please?                                                            \n",
       "987  Okay I would like to make a booking for 5 people and 4 nights starting from wednesday.                                                     \n",
       "\n",
       "            d1        d2 label  \n",
       "0    12.759892 -1.162512        \n",
       "1    7.568747  -1.182581        \n",
       "2    13.244747  4.254968        \n",
       "3    10.788860  6.066881        \n",
       "4    10.355771  5.620865        \n",
       "..         ...       ... ..     \n",
       "983  9.402921  -1.351047        \n",
       "984  10.176835  5.471220        \n",
       "985  12.928972  5.968725        \n",
       "986  7.994438   5.547698        \n",
       "987  8.181626   7.090454        \n",
       "\n",
       "[988 rows x 4 columns]"
      ]
     },
     "execution_count": 20,
     "metadata": {},
     "output_type": "execute_result"
    }
   ],
   "source": [
    "# This is the dataframe with the labels attached\n",
    "# you can inspect it here or save it to disk.\n",
    "state['df']"
   ]
  },
  {
   "cell_type": "code",
   "execution_count": null,
   "metadata": {},
   "outputs": [],
   "source": [
    "for i in range(len(user_dialogue)):\n",
    "    user_dialogue.iloc[i][\"Intent\"] = state['df'].iloc[i][\"label\"]"
   ]
  },
  {
   "cell_type": "code",
   "execution_count": null,
   "metadata": {},
   "outputs": [],
   "source": [
    "user_dialogue.to_csv(\"./dialogue_data/user_dialogue.csv\", index=False)"
   ]
  }
 ],
 "metadata": {
  "kernelspec": {
   "display_name": "env",
   "language": "python",
   "name": "python3"
  },
  "language_info": {
   "codemirror_mode": {
    "name": "ipython",
    "version": 3
   },
   "file_extension": ".py",
   "mimetype": "text/x-python",
   "name": "python",
   "nbconvert_exporter": "python",
   "pygments_lexer": "ipython3",
   "version": "3.8.0"
  },
  "vscode": {
   "interpreter": {
    "hash": "3d0c32a0b60d0648371e98da90f122043fd757435ec9f16445842891d61e2681"
   }
  }
 },
 "nbformat": 4,
 "nbformat_minor": 2
}
