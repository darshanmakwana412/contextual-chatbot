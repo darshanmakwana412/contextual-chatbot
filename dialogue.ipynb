{
 "cells": [
  {
   "cell_type": "code",
   "execution_count": 2,
   "metadata": {},
   "outputs": [],
   "source": [
    "import os\n",
    "import json\n",
    "import pandas as pd"
   ]
  },
  {
   "cell_type": "code",
   "execution_count": null,
   "metadata": {},
   "outputs": [],
   "source": [
    "dialogue_dir = \"dialogue_data\"\n",
    "train_data_path = os.path.join(dialogue_dir, \"train_data.json\")"
   ]
  },
  {
   "cell_type": "code",
   "execution_count": null,
   "metadata": {},
   "outputs": [],
   "source": [
    "# Creating a single json file for all the training dialogues\n",
    "\n",
    "train_data = []\n",
    "train_dir = os.path.join(dialogue_dir, \"train\")\n",
    "for dialogue in os.listdir(train_dir):\n",
    "    dialogue_path = os.path.join(train_dir, dialogue)\n",
    "    with open(dialogue_path, \"r\") as train_json:\n",
    "        dialogues = json.load(train_json)\n",
    "        train_data.extend(dialogues)\n",
    "    train_json.close()\n",
    "\n",
    "with open(train_data_path, \"w\") as train_json:\n",
    "    json.dump(train_data, train_json, indent=2)\n",
    "train_json.close()\n",
    "train_data = []"
   ]
  },
  {
   "cell_type": "code",
   "execution_count": null,
   "metadata": {},
   "outputs": [],
   "source": [
    "# Creating a csv file for the dialogues train dataset\n",
    "\n",
    "with open(train_data_path, \"r\") as train_json:\n",
    "    train_data = json.load(train_json)\n",
    "train_json.close()\n",
    "\n",
    "train_csv = []\n",
    "\n",
    "for dialogue in train_data:\n",
    "    for turn in dialogue[\"turns\"]:\n",
    "        row = {}\n",
    "        row[\"Speaker\"] = turn[\"speaker\"]\n",
    "        row[\"Turn ID\"] = turn[\"turn_id\"]\n",
    "        row[\"Utterence\"] = turn[\"utterance\"]\n",
    "        row[\"Dialogue ID\"] = dialogue[\"dialogue_id\"]\n",
    "        train_csv.append(row)\n",
    "train_csv = pd.DataFrame(train_csv, columns=[\"Dialogue ID\", \"Speaker\", \"Turn ID\", \"Utterence\"])\n",
    "train_csv.to_csv(f\"{train_data_path[:-5]}.csv\", index=False)"
   ]
  },
  {
   "attachments": {},
   "cell_type": "markdown",
   "metadata": {},
   "source": [
    "# Bulk Labelling"
   ]
  },
  {
   "cell_type": "code",
   "execution_count": 1,
   "metadata": {},
   "outputs": [
    {
     "ename": "ModuleNotFoundError",
     "evalue": "No module named 'ipywidgets'",
     "output_type": "error",
     "traceback": [
      "\u001b[1;31m---------------------------------------------------------------------------\u001b[0m",
      "\u001b[1;31mModuleNotFoundError\u001b[0m                       Traceback (most recent call last)",
      "Cell \u001b[1;32mIn[1], line 4\u001b[0m\n\u001b[0;32m      2\u001b[0m \u001b[39mimport\u001b[39;00m \u001b[39mnumpy\u001b[39;00m \u001b[39mas\u001b[39;00m \u001b[39mnp\u001b[39;00m\n\u001b[0;32m      3\u001b[0m \u001b[39mimport\u001b[39;00m \u001b[39mpandas\u001b[39;00m \u001b[39mas\u001b[39;00m \u001b[39mpd\u001b[39;00m\n\u001b[1;32m----> 4\u001b[0m \u001b[39mimport\u001b[39;00m \u001b[39mipywidgets\u001b[39;00m \u001b[39mas\u001b[39;00m \u001b[39mwidgets\u001b[39;00m\n\u001b[0;32m      6\u001b[0m \u001b[39mfrom\u001b[39;00m \u001b[39mwhatlies\u001b[39;00m \u001b[39mimport\u001b[39;00m EmbeddingSet \n\u001b[0;32m      7\u001b[0m \u001b[39mfrom\u001b[39;00m \u001b[39mwhatlies\u001b[39;00m\u001b[39m.\u001b[39;00m\u001b[39mtransformers\u001b[39;00m \u001b[39mimport\u001b[39;00m Pca, Umap\n",
      "\u001b[1;31mModuleNotFoundError\u001b[0m: No module named 'ipywidgets'"
     ]
    }
   ],
   "source": [
    "import pathlib \n",
    "import numpy as np\n",
    "import pandas as pd\n",
    "import ipywidgets as widgets\n",
    "\n",
    "from whatlies import EmbeddingSet \n",
    "from whatlies.transformers import Pca, Umap\n",
    "from hulearn.preprocessing import InteractivePreprocessor\n",
    "from hulearn.experimental.interactive import InteractiveCharts\n",
    "from whatlies.language import UniversalSentenceLanguage, LaBSELanguage"
   ]
  }
 ],
 "metadata": {
  "kernelspec": {
   "display_name": "env",
   "language": "python",
   "name": "python3"
  },
  "language_info": {
   "codemirror_mode": {
    "name": "ipython",
    "version": 3
   },
   "file_extension": ".py",
   "mimetype": "text/x-python",
   "name": "python",
   "nbconvert_exporter": "python",
   "pygments_lexer": "ipython3",
   "version": "3.8.0 (tags/v3.8.0:fa919fd, Oct 14 2019, 19:37:50) [MSC v.1916 64 bit (AMD64)]"
  },
  "orig_nbformat": 4,
  "vscode": {
   "interpreter": {
    "hash": "3d0c32a0b60d0648371e98da90f122043fd757435ec9f16445842891d61e2681"
   }
  }
 },
 "nbformat": 4,
 "nbformat_minor": 2
}
